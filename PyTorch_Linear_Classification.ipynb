{
  "nbformat": 4,
  "nbformat_minor": 0,
  "metadata": {
    "colab": {
      "provenance": [],
      "authorship_tag": "ABX9TyP2CbfdBfGl24zb8U76ybvi",
      "include_colab_link": true
    },
    "kernelspec": {
      "name": "python3",
      "display_name": "Python 3"
    },
    "language_info": {
      "name": "python"
    }
  },
  "cells": [
    {
      "cell_type": "markdown",
      "metadata": {
        "id": "view-in-github",
        "colab_type": "text"
      },
      "source": [
        "<a href=\"https://colab.research.google.com/github/setareh10/Task/blob/main/PyTorch_Linear_Classification.ipynb\" target=\"_parent\"><img src=\"https://colab.research.google.com/assets/colab-badge.svg\" alt=\"Open In Colab\"/></a>"
      ]
    },
    {
      "cell_type": "code",
      "execution_count": 13,
      "metadata": {
        "id": "-zb9j9E4TnQy"
      },
      "outputs": [],
      "source": [
        "import torch\n",
        "import torch.nn as nn\n",
        "import numpy as np\n",
        "import matplotlib.pyplot as plt\n",
        "from sklearn.datasets import load_breast_cancer\n",
        "from sklearn.model_selection import train_test_split\n",
        "from sklearn.preprocessing import StandardScaler"
      ]
    },
    {
      "cell_type": "code",
      "source": [
        "data = load_breast_cancer()\n",
        "type(data)\n",
        "\n",
        "data.keys()\n"
      ],
      "metadata": {
        "colab": {
          "base_uri": "https://localhost:8080/"
        },
        "id": "j1RsWcXGUP4b",
        "outputId": "8afe6afb-d75d-44bb-dfa9-1958870cf8e1"
      },
      "execution_count": 14,
      "outputs": [
        {
          "output_type": "execute_result",
          "data": {
            "text/plain": [
              "dict_keys(['data', 'target', 'frame', 'target_names', 'DESCR', 'feature_names', 'filename', 'data_module'])"
            ]
          },
          "metadata": {},
          "execution_count": 14
        }
      ]
    },
    {
      "cell_type": "code",
      "source": [
        "print(f'data siez: {data.data.shape}\\n')\n",
        "print(f'Features Names: {data.feature_names}\\n')\n",
        "print(f'Targets Names: {data.target_names}\\n')"
      ],
      "metadata": {
        "colab": {
          "base_uri": "https://localhost:8080/"
        },
        "id": "hPN0acgqUYgQ",
        "outputId": "dbaf1898-82a3-4952-af83-2d29d3bcd098"
      },
      "execution_count": 15,
      "outputs": [
        {
          "output_type": "stream",
          "name": "stdout",
          "text": [
            "data siez: (569, 30)\n",
            "\n",
            "Features Names: ['mean radius' 'mean texture' 'mean perimeter' 'mean area'\n",
            " 'mean smoothness' 'mean compactness' 'mean concavity'\n",
            " 'mean concave points' 'mean symmetry' 'mean fractal dimension'\n",
            " 'radius error' 'texture error' 'perimeter error' 'area error'\n",
            " 'smoothness error' 'compactness error' 'concavity error'\n",
            " 'concave points error' 'symmetry error' 'fractal dimension error'\n",
            " 'worst radius' 'worst texture' 'worst perimeter' 'worst area'\n",
            " 'worst smoothness' 'worst compactness' 'worst concavity'\n",
            " 'worst concave points' 'worst symmetry' 'worst fractal dimension']\n",
            "\n",
            "Targets Names: ['malignant' 'benign']\n",
            "\n"
          ]
        }
      ]
    },
    {
      "cell_type": "code",
      "source": [
        "X_train, X_test, y_train, y_test = train_test_split(data.data, data.target, test_size=0.33)\n",
        "\n"
      ],
      "metadata": {
        "id": "y9OXGxo4U-ee"
      },
      "execution_count": 16,
      "outputs": []
    },
    {
      "cell_type": "code",
      "source": [
        "scaler = StandardScaler()\n",
        "X_train = scaler.fit_transform(X_train)\n",
        "X_test = scaler.transform(X_test)"
      ],
      "metadata": {
        "id": "VJnRf-iPcSaF"
      },
      "execution_count": 19,
      "outputs": []
    },
    {
      "cell_type": "code",
      "source": [
        "input_train = torch.from_numpy(X_train.astype(np.float32))\n",
        "target_train = torch.from_numpy(y_train.reshape(y_train.shape[0],1).astype(np.float32))\n",
        "\n",
        "input_test = torch.from_numpy(X_test.astype(np.float32))\n",
        "target_test = torch.from_numpy(y_test.reshape(y_test.shape[0],1).astype(np.float32))\n",
        "\n",
        "N, D = input_train.shape\n",
        "print( N, D)\n"
      ],
      "metadata": {
        "colab": {
          "base_uri": "https://localhost:8080/"
        },
        "id": "sCtKeKkJcQPJ",
        "outputId": "d8bb8833-4dc0-4d87-bcc7-bafd68bb8d55"
      },
      "execution_count": 43,
      "outputs": [
        {
          "output_type": "stream",
          "name": "stdout",
          "text": [
            "381 30\n"
          ]
        }
      ]
    },
    {
      "cell_type": "code",
      "source": [
        "model = nn.Sequential(\n",
        "    nn.Linear(D,1),\n",
        "    nn.Sigmoid()\n",
        ")\n",
        "\n",
        "criterion = nn.BCELoss()\n",
        "optimizer = torch.optim.Adam(model.parameters())\n",
        "\n",
        "n_epochs = 1000"
      ],
      "metadata": {
        "id": "-vh9JuqLWHJZ"
      },
      "execution_count": 44,
      "outputs": []
    },
    {
      "cell_type": "code",
      "source": [
        "loss_train_list = []\n",
        "loss_test_list = []\n",
        "\n",
        "for epoch in range(n_epochs):\n",
        "    optimizer.zero_grad()\n",
        "\n",
        "    output_train = model(input_train)\n",
        "    loss_train = criterion(output_train, target_train)\n",
        "    loss_train_list.append(loss_train.item())\n",
        "\n",
        "    loss_train.backward()\n",
        "    optimizer.step()\n",
        "\n",
        "    output_test = model(input_test)\n",
        "    loss_test = criterion(output_test, target_test)\n",
        "    loss_test_list.append(loss_test.item())\n",
        "\n",
        "    if (epoch + 1) % 50 == 0:\n",
        "        print(f'Epoch {epoch + 1}: Loss Train: {loss_train.item()}, Loss Test: {loss_test.item()}')\n"
      ],
      "metadata": {
        "colab": {
          "base_uri": "https://localhost:8080/"
        },
        "id": "C3U9wx3WX8Sj",
        "outputId": "500854a4-384b-42c9-dfde-dc10e3f9f352"
      },
      "execution_count": 45,
      "outputs": [
        {
          "output_type": "stream",
          "name": "stdout",
          "text": [
            "Epoch 50: Loss Train: 0.41543346643447876, Loss Test: 0.4126209616661072\n",
            "Epoch 100: Loss Train: 0.3135065734386444, Loss Test: 0.31249281764030457\n",
            "Epoch 150: Loss Train: 0.2564096450805664, Loss Test: 0.25665175914764404\n",
            "Epoch 200: Loss Train: 0.21979708969593048, Loss Test: 0.22088947892189026\n",
            "Epoch 250: Loss Train: 0.19430162012577057, Loss Test: 0.19594210386276245\n",
            "Epoch 300: Loss Train: 0.17550639808177948, Loss Test: 0.17750269174575806\n",
            "Epoch 350: Loss Train: 0.16104960441589355, Loss Test: 0.1632867306470871\n",
            "Epoch 400: Loss Train: 0.14955845475196838, Loss Test: 0.15196821093559265\n",
            "Epoch 450: Loss Train: 0.14018326997756958, Loss Test: 0.14272519946098328\n",
            "Epoch 500: Loss Train: 0.13237102329730988, Loss Test: 0.13502171635627747\n",
            "Epoch 550: Loss Train: 0.12574675679206848, Loss Test: 0.1284935474395752\n",
            "Epoch 600: Loss Train: 0.12004733085632324, Loss Test: 0.12288466095924377\n",
            "Epoch 650: Loss Train: 0.1150827556848526, Loss Test: 0.11800962686538696\n",
            "Epoch 700: Loss Train: 0.11071236431598663, Loss Test: 0.11373093724250793\n",
            "Epoch 750: Loss Train: 0.10682980716228485, Loss Test: 0.10994423180818558\n",
            "Epoch 800: Loss Train: 0.1033531129360199, Loss Test: 0.10656877607107162\n",
            "Epoch 850: Loss Train: 0.10021815448999405, Loss Test: 0.10354115813970566\n",
            "Epoch 900: Loss Train: 0.09737389534711838, Loss Test: 0.10081072151660919\n",
            "Epoch 950: Loss Train: 0.09477927535772324, Loss Test: 0.09833643585443497\n",
            "Epoch 1000: Loss Train: 0.09240082651376724, Loss Test: 0.09608470648527145\n"
          ]
        }
      ]
    },
    {
      "cell_type": "code",
      "source": [
        "plt.plot(loss_train_list, 'b', label='Train')\n",
        "plt.plot(loss_test_list, 'r', label='Test')\n",
        "plt.legend()"
      ],
      "metadata": {
        "colab": {
          "base_uri": "https://localhost:8080/",
          "height": 447
        },
        "id": "aUf55EhxcNxl",
        "outputId": "c2a062a3-25eb-4809-b15c-60a997db7fe6"
      },
      "execution_count": 47,
      "outputs": [
        {
          "output_type": "execute_result",
          "data": {
            "text/plain": [
              "<matplotlib.legend.Legend at 0x7b60bae211b0>"
            ]
          },
          "metadata": {},
          "execution_count": 47
        },
        {
          "output_type": "display_data",
          "data": {
            "text/plain": [
              "<Figure size 640x480 with 1 Axes>"
            ],
            "image/png": "[encoded data removed]"
          },
          "metadata": {}
        }
      ]
    },
    {
      "cell_type": "code",
      "source": [
        " with torch.no_grad():\n",
        "\n",
        "  p_train = model(input_train)\n",
        "  p_train = np.round(p_train.numpy())\n",
        "  acc_train = np.mean(p_train==target_train.numpy())\n",
        "\n",
        "  p_test = model(input_test)\n",
        "  p_test = np.round(p_test.numpy())\n",
        "  acc_test = np.mean(p_test==target_test.numpy())\n",
        "\n",
        "\n",
        "  print(f'Train Accuracy: {acc_train}, Test Accuracy: {acc_test}')"
      ],
      "metadata": {
        "colab": {
          "base_uri": "https://localhost:8080/"
        },
        "id": "nesgqQo-hO6V",
        "outputId": "57c6a969-1cf5-4d2f-fb00-34f6b33b3630"
      },
      "execution_count": 63,
      "outputs": [
        {
          "output_type": "stream",
          "name": "stdout",
          "text": [
            "Train Accuracy: 0.989501312335958, Test Accuracy: 0.973404255319149\n"
          ]
        }
      ]
    }
  ]
}